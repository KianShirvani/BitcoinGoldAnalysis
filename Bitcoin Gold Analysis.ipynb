{
 "cells": [
  {
   "cell_type": "markdown",
   "metadata": {},
   "source": [
    "# Raw Datasets: #\n",
    "\n",
    "***GOLD DATA***\n",
    "\n",
    "\n",
    "This dataset tracks monthly gold prices from January 1950 to July 2020. Gold has served as a store of value and medium of exchange for centuries and continues to play a key role in financial markets. Various factors, including global economic conditions, geopolitical events, and supply-demand dynamics, influence its price. The dataset includes 847 entries provided by The World Gold Council\n",
    "\n",
    "https://www.kaggle.com/datasets/nhiyen/monthly-gold-price\n",
    "\n",
    "https://ca.investing.com/commodities/gold-historical-data\n",
    "\n",
    "\n",
    "\n",
    "***BTC DATA***\n",
    "\n",
    "This dataset shows Bitcoin prices starting from October 5, 2009, when its first exchange value was set by the New Liberty Standard. Bitcoin was the first cryptocurrency, created as a digital currency that doesn’t rely on banks or governments. Its price changes based on factors like how many people are using it, market trends, regulations, and the economy. The dataset tracks Bitcoin’s growth from its early days to becoming a major part of global finance.\n",
    "\n",
    "https://github.com/davidmunozlahoz/btc-historical-price?tab=readme-ov-file\n",
    "\n",
    "https://ca.investing.com/indices/investing.com-btc-usd\n",
    "\n",
    "\n",
    "\n",
    "***INTEREST RATE AND VIX DATA***\n",
    "\n",
    "This dataset includes interest rates and the VIX, both important tools for understanding financial markets. Interest rates, set by central banks, influence borrowing costs and economic activity. When rates rise, borrowing gets more expensive, which can lower spending and investment. When they drop, the economy often speeds up. These changes affect the value of assets like Bitcoin and Gold.\n",
    "\n",
    "The VIX, known as the \"fear index,\" measures how much volatility investors expect in the stock market. High VIX levels usually mean uncertainty or fear in the market, often during recessions or crises. By including interest rates and VIX data, we can see how economic conditions and market stress impact Bitcoin and Gold prices over time.\n",
    "\n",
    "https://fred.stlouisfed.org/series/VIXCLS\n",
    "\n",
    "https://fred.stlouisfed.org/series/DFF\n",
    "\n",
    "\n",
    "\n",
    "# Goal of Analysis - *Is Bitcoin a Hedge During a Recession Similar to Gold?* #\n",
    "\n",
    "In this analysis, I examine whether Bitcoin acts as a hedge during recessions, similar to how gold is traditionally viewed. Gold has long been seen as a safe haven during economic uncertainty, while Bitcoin’s role is still debated.\n",
    "\n",
    "I compare Bitcoin and gold by looking at features like their prices, volatility, and performance during key recession periods. To understand how they respond to economic changes, I include factors like interest rates and the VIX. Interest rates show how central bank policies impact the economy, while the VIX measures market fear and uncertainty. By combining these factors, my analysis aims to see if Bitcoin, like gold, provides stability and value during times of economic hardship."
   ]
  },
  {
   "cell_type": "markdown",
   "metadata": {},
   "source": [
    "\n",
    "\n",
    "\n",
    "# Gold Data - Loading and Cleaning #"
   ]
  },
  {
   "cell_type": "code",
   "execution_count": null,
   "metadata": {},
   "outputs": [
    {
     "name": "stdout",
     "output_type": "stream",
     "text": [
      "          Date     Price\n",
      "0   1950-01-01     34.73\n",
      "1   1950-02-01     34.73\n",
      "2   1950-03-01     34.73\n",
      "3   1950-04-01     34.73\n",
      "4   1950-05-01     34.73\n",
      "..         ...       ...\n",
      "851 2024-07-01  2,449.30\n",
      "850 2024-08-01  2,516.00\n",
      "849 2024-09-01  2,659.40\n",
      "848 2024-10-01  2,761.60\n",
      "847 2024-11-01  2,681.00\n",
      "\n",
      "[899 rows x 2 columns]\n"
     ]
    }
   ],
   "source": [
    "import pandas as pd\n",
    "\n",
    "# Load the first dataset 1950-2020 (Kaggle.com)\n",
    "monthly_data = pd.read_csv(\"monthly_csv.csv\")\n",
    "monthly_data['Date'] = pd.to_datetime(monthly_data['Date'])\n",
    "\n",
    "# Load the second dataset 2022-2024 (Investing.com)\n",
    "monthly_data_2024 = pd.read_csv(\"Gold_Futures_Historical_Data.csv\")\n",
    "monthly_data_2024['Date'] = pd.to_datetime(monthly_data_2024['Date'])\n",
    "\n",
    "# Load the third dataset 2020-2022 (Investing.com)\n",
    "monthly_data_2020 = pd.read_csv(\"Gold(2020-2022).csv\")\n",
    "monthly_data_2020['Date'] = pd.to_datetime(monthly_data_2020['Date'])\n",
    "\n",
    "# Combine data\n",
    "combined_data = pd.concat([monthly_data[['Date', 'Price']], monthly_data_2024[['Date', 'Price']], monthly_data_2020[['Date', 'Price']]], ignore_index=True)\n",
    "\n",
    "# Remove duplicates\n",
    "final_data = combined_data.drop_duplicates(subset='Date').sort_values(by='Date')\n",
    "\n",
    "final_data.to_csv(\"gold_prices_combined.csv\", index=False)\n",
    "\n",
    "print(final_data)\n"
   ]
  },
  {
   "cell_type": "markdown",
   "metadata": {},
   "source": [
    "# Bitcoin (BTC) Data - Loading and Cleaning #"
   ]
  },
  {
   "cell_type": "code",
   "execution_count": null,
   "metadata": {},
   "outputs": [
    {
     "name": "stdout",
     "output_type": "stream",
     "text": [
      "           Date     Price\n",
      "0    2009-10-05  0.000764\n",
      "1    2009-10-06  0.000885\n",
      "2    2009-10-07   0.00105\n",
      "3    2009-10-08  0.001084\n",
      "4    2009-10-09    0.0012\n",
      "...         ...       ...\n",
      "5252 2024-08-01  58,978.6\n",
      "5251 2024-09-01  63,339.2\n",
      "5250 2024-10-01  70,281.8\n",
      "5249 2024-11-01  96,405.7\n",
      "5248 2024-12-01  97,532.2\n",
      "\n",
      "[5258 rows x 2 columns]\n"
     ]
    }
   ],
   "source": [
    "import pandas as pd\n",
    "import decimal\n",
    "\n",
    "# Load the Bitcoin prices dataset (Github link)\n",
    "bitcoin_data = pd.read_csv(\"BTCprice.csv\")\n",
    "bitcoin_data['Date'] = pd.to_datetime(bitcoin_data['Date'])\n",
    "\n",
    "#Load the Bitcoin 2024 prices dataset (Investing.com)\n",
    "bitcoin_data_2024 = pd.read_csv(\"BitcoinHistoricalData.csv\")\n",
    "bitcoin_data_2024['Date'] = pd.to_datetime(bitcoin_data_2024['Date'])\n",
    "\n",
    "# Combine data\n",
    "combined_data_btc = pd.concat([bitcoin_data[['Date', 'Price']], bitcoin_data_2024[['Date', 'Price']]], ignore_index=True)\n",
    "\n",
    "# Remove duplicates\n",
    "final_data_btc = combined_data_btc.drop_duplicates(subset='Date').sort_values(by='Date')\n",
    "\n",
    "final_data_btc.to_csv(\"btc_prices_combined.csv\", index=False)\n",
    "\n",
    "print(final_data_btc)\n",
    "\n",
    "\n",
    "\n"
   ]
  },
  {
   "cell_type": "markdown",
   "metadata": {},
   "source": [
    "# Interest Rate and VIX Data - Loading and Cleaning #"
   ]
  },
  {
   "cell_type": "code",
   "execution_count": null,
   "metadata": {},
   "outputs": [
    {
     "name": "stdout",
     "output_type": "stream",
     "text": [
      "           DATE VIXCLS   DFF\n",
      "0    2000-01-03  24.21  5.43\n",
      "1    2000-01-04  27.01  5.38\n",
      "2    2000-01-05  26.41  5.41\n",
      "3    2000-01-06  25.73  5.54\n",
      "4    2000-01-07  21.72  5.61\n",
      "...         ...    ...   ...\n",
      "6494 2024-11-22  15.24  4.58\n",
      "6495 2024-11-25   14.6  4.58\n",
      "6496 2024-11-26   14.1  4.58\n",
      "6497 2024-11-27   14.1  4.58\n",
      "6498 2024-11-28   13.9  4.58\n",
      "\n",
      "[6499 rows x 3 columns]\n"
     ]
    }
   ],
   "source": [
    "import pandas as pd\n",
    "\n",
    "# Load the DFF prices dataset (FRED Source)\n",
    "dff = pd.read_csv(\"DFF.csv\")\n",
    "dff['DATE'] = pd.to_datetime(dff['DATE'])\n",
    "\n",
    "# Load the VIXCLS prices dataset (FRED Source)\n",
    "vixcls = pd.read_csv(\"VIXCLS.csv\")\n",
    "vixcls['DATE'] = pd.to_datetime(vixcls['DATE'])\n",
    "\n",
    "# Merge the datasets on 'DATE' \n",
    "combined = pd.merge(vixcls, dff, on='DATE', how='inner')\n",
    "\n",
    "# Remove duplicates\n",
    "final_macro_economic_data = combined.drop_duplicates(subset='DATE').sort_values(by='DATE')\n",
    "\n",
    "\n",
    "final_macro_economic_data.to_csv(\"macro_economic_data.csv\", index=False)\n",
    "\n",
    "# Print the first few rows of the final dataset\n",
    "print(final_macro_economic_data)"
   ]
  },
  {
   "cell_type": "markdown",
   "metadata": {},
   "source": [
    "# Cleaning and Preparing Data Structure for Analysis #"
   ]
  },
  {
   "cell_type": "code",
   "execution_count": 4,
   "metadata": {},
   "outputs": [
    {
     "name": "stdout",
     "output_type": "stream",
     "text": [
      "          Date  Price_Gold  Price_BTC\n",
      "0   1950-01-01       34.73        NaN\n",
      "1   1950-02-01       34.73        NaN\n",
      "2   1950-03-01       34.73        NaN\n",
      "3   1950-04-01       34.73        NaN\n",
      "4   1950-05-01       34.73        NaN\n",
      "..         ...         ...        ...\n",
      "894 2024-07-01     2449.30    64626.0\n",
      "895 2024-08-01     2516.00    58978.6\n",
      "896 2024-09-01     2659.40    63339.2\n",
      "897 2024-10-01     2761.60    70281.8\n",
      "898 2024-11-01     2681.00    96405.7\n",
      "\n",
      "[899 rows x 3 columns]\n"
     ]
    }
   ],
   "source": [
    "import pandas as pd\n",
    "\n",
    "# Load Datasets\n",
    "btc_combined_data = pd.read_csv(\"btc_prices_combined.csv\")\n",
    "gold_combined_data = pd.read_csv(\"gold_prices_combined.csv\")\n",
    "\n",
    "# Ensure the 'Date' columns are in datetime format\n",
    "btc_combined_data['Date'] = pd.to_datetime(btc_combined_data['Date'])\n",
    "gold_combined_data['Date'] = pd.to_datetime(gold_combined_data['Date'])\n",
    "\n",
    "#  Clean and change type of 'Price' columns to float format\n",
    "gold_combined_data['Price'] = gold_combined_data['Price'].replace('[\\$,]', '', regex=True).astype(float)\n",
    "btc_combined_data['Price'] = btc_combined_data['Price'].replace('[\\$,]', '', regex=True).astype(float)\n",
    "\n",
    "# Merge the datasets on matching dates\n",
    "merged_data = pd.merge(gold_combined_data, btc_combined_data, on='Date', how='left', suffixes=('_Gold', '_BTC'))\n",
    "\n",
    "# Round to 2 decimals\n",
    "merged_data['Price_Gold'] = merged_data['Price_Gold'].round(2)\n",
    "merged_data['Price_BTC'] = merged_data['Price_BTC'].round(2)\n",
    "\n",
    "merged_data.to_csv(\"merged_gold_btc_prices.csv\", index=False)\n",
    "\n",
    "print(merged_data)\n"
   ]
  },
  {
   "cell_type": "markdown",
   "metadata": {},
   "source": [
    "# Price Charts of Bitcoin and Gold to Reference through Analysis #"
   ]
  },
  {
   "cell_type": "code",
   "execution_count": 2,
   "metadata": {},
   "outputs": [
    {
     "data": {
      "image/png": "[encoded data removed]",
      "text/plain": [
       "<Figure size 1200x600 with 1 Axes>"
      ]
     },
     "metadata": {},
     "output_type": "display_data"
    },
    {
     "data": {
      "image/png": "[encoded data removed]",
      "text/plain": [
       "<Figure size 1200x600 with 1 Axes>"
      ]
     },
     "metadata": {},
     "output_type": "display_data"
    }
   ],
   "source": [
    "import matplotlib.pyplot as plt\n",
    "import numpy as np\n",
    "import pandas as pd\n",
    "import matplotlib.dates as mdates  \n",
    "\n",
    "# Load the merged dataset\n",
    "df = pd.read_csv(\"merged_gold_btc_prices.csv\")\n",
    "\n",
    "df['Date'] = pd.to_datetime(df['Date'])\n",
    "\n",
    "\n",
    "#BTC CHART\n",
    "\n",
    "plt.figure(figsize=(12, 6))  \n",
    "plt.plot(df['Date'], df['Price_BTC'], label='BTC Price') \n",
    "plt.title(\"Bitcoin Price Over Time\") \n",
    "\n",
    "# Set x-axis to show every 6 months\n",
    "plt.gca().xaxis.set_major_locator(mdates.MonthLocator(interval=6))\n",
    "plt.gca().xaxis.set_major_formatter(mdates.DateFormatter('%Y-%m'))\n",
    "\n",
    "# Set y-axis to increment by 500\n",
    "plt.yticks(np.arange(0, 120000, 10000))\n",
    "\n",
    "# Labels\n",
    "plt.xlabel(\"Date\") \n",
    "plt.ylabel(\"Bitcoin Price\") \n",
    "plt.xticks(rotation=90)\n",
    "plt.grid()\n",
    "plt.legend()  \n",
    "plt.show() \n",
    "\n",
    "\n",
    "#GOLD CHART\n",
    "\n",
    "plt.figure(figsize=(12, 6)) \n",
    "plt.plot(df['Date'], df['Price_Gold'], label='Gold Price', color='green') \n",
    "plt.title(\"Gold Price Over Time\") \n",
    "\n",
    "# Set x-axis to show every 6 months\n",
    "plt.gca().xaxis.set_major_locator(mdates.MonthLocator(interval=24))\n",
    "plt.gca().xaxis.set_major_formatter(mdates.DateFormatter('%Y-%m'))\n",
    "\n",
    "# Set y-axis to increment by 500\n",
    "plt.yticks(np.arange(0, 3100, 250))\n",
    "\n",
    "# Labels\n",
    "plt.xlabel(\"Date\") \n",
    "plt.ylabel(\"Gold Price\") \n",
    "plt.xticks(rotation=90)\n",
    "plt.legend() \n",
    "plt.grid()\n",
    "plt.show() \n"
   ]
  },
  {
   "cell_type": "markdown",
   "metadata": {},
   "source": [
    "# 1. Correlation Analysis #\n"
   ]
  },
  {
   "cell_type": "code",
   "execution_count": 1,
   "metadata": {},
   "outputs": [
    {
     "name": "stdout",
     "output_type": "stream",
     "text": [
      "\n",
      "Correlation Matrix:\n",
      "                        Gold Price  Bitcoin Price  Volatility Expectation  \\\n",
      "Gold Price                1.000000       0.814056                0.184590   \n",
      "Bitcoin Price             0.814056       1.000000                0.043328   \n",
      "Volatility Expectation    0.184590       0.043328                1.000000   \n",
      "Interest Rate             0.603901       0.578004               -0.231969   \n",
      "\n",
      "                        Interest Rate  \n",
      "Gold Price                   0.603901  \n",
      "Bitcoin Price                0.578004  \n",
      "Volatility Expectation      -0.231969  \n",
      "Interest Rate                1.000000  \n"
     ]
    },
    {
     "data": {
      "image/png": "[encoded data removed]",
      "text/plain": [
       "<Figure size 1000x600 with 2 Axes>"
      ]
     },
     "metadata": {},
     "output_type": "display_data"
    },
    {
     "data": {
      "application/vnd.plotly.v1+json": {
       "config": {
        "plotlyServerURL": "https://plot.ly"
       },
       "data": [
        {
         "dimensions": [
          {
           "axis": {
            "matches": true
           },
           "label": "Gold",
           "values": [
            1135.01,
            1095.8,
            1115.55,
            1148.47,
            1232.38,
            1196,
            1271.46,
            1343.19,
            1371.78,
            1393.51,
            1371.31,
            1422.85,
            1474.43,
            1528.38,
            1568.53,
            1759.5,
            1780.65,
            1735.98,
            1652.72,
            1743.1,
            1675.06,
            1585.11,
            1595.63,
            1625.68,
            1746.35,
            1724.35,
            1630.69,
            1591.01,
            1485.9,
            1416.14,
            1284.35,
            1345.05,
            1314.4,
            1277.42,
            1299.18,
            1288.91,
            1312.99,
            1297.01,
            1223.56,
            1200.44,
            1198.25,
            1197.68,
            1182.25,
            1131.58,
            1124.9,
            1157.12,
            1068.32,
            1194.89,
            1246.31,
            1241.45,
            1273.58,
            1337.43,
            1340.86,
            1326.62,
            1240.29,
            1152.16,
            1233.39,
            1231.06,
            1245.25,
            1261.28,
            1281.72,
            1317.04,
            1283.19,
            1265.67,
            1333.78,
            1325.56,
            1303.62,
            1282.13,
            1201.86,
            1214.73,
            1221.28,
            1319.76,
            1302.29,
            1287.65,
            1282.46,
            1414.61,
            1497.1,
            1494.76,
            1471.92,
            1680.03,
            1715.7,
            1734.03,
            1840.81,
            1895.5,
            1879.9,
            1895.1,
            1728.8,
            1715.6,
            1767.7,
            1771.6,
            1817.2,
            1757,
            1783.9,
            1776.5,
            1828.6,
            1900.7,
            1954,
            1911.7,
            1807.3,
            1781.8,
            1726.2,
            1684.9,
            1775.1,
            1842.2,
            1853.2,
            2004.1,
            1982.1,
            1929.4,
            1965.9,
            1885.4,
            2038.1,
            2071.8,
            2054.7,
            2227.1,
            2302.9,
            2333.9,
            2449.3,
            2516,
            2761.6,
            2681
           ]
          },
          {
           "axis": {
            "matches": true
           },
           "label": "Bitcoin",
           "values": [
            0,
            0,
            0.01,
            0.01,
            0,
            0.01,
            0.06,
            0.06,
            0.2,
            0.23,
            0.7,
            0.92,
            0.77,
            9.57,
            15.4,
            13.09,
            8.21,
            3.15,
            3.06,
            6.08,
            4.92,
            5,
            5.27,
            9.55,
            12.4,
            10.57,
            20.5,
            34.5,
            104,
            116.38,
            84.61,
            96.42,
            125.49,
            198.51,
            478.72,
            456.27,
            635.59,
            595.08,
            381.33,
            378.64,
            246.55,
            232.12,
            223.31,
            257.66,
            227.35,
            237.57,
            362.73,
            371.25,
            433.64,
            417.01,
            536.42,
            676.52,
            607.37,
            571.69,
            729.27,
            753.26,
            987.35,
            1230.02,
            1402.08,
            2452.18,
            2735.59,
            4950.72,
            6750.17,
            10859.56,
            9052.58,
            10907.59,
            9067.72,
            7518.24,
            7603.75,
            6578.79,
            6358.4,
            3468.25,
            3850.07,
            4156.39,
            5423.66,
            10599.33,
            10405.21,
            8326.58,
            9265.43,
            6671.95,
            8771.57,
            9564.95,
            9153.95,
            11964.21,
            10626.6,
            18795.2,
            33543.77,
            49619.64,
            58726.68,
            36681.74,
            33524.98,
            49111.09,
            48436.01,
            62419,
            59041.68,
            39115.13,
            44793.6,
            46616.24,
            31957.29,
            20632.67,
            23464.79,
            20198.39,
            20647.29,
            17197.5,
            23764.54,
            23880.63,
            29329.94,
            27346.11,
            29675.73,
            26125.87,
            35527.93,
            38954.11,
            43243.17,
            71332,
            60666.6,
            67530.1,
            64626,
            58978.6,
            70281.8,
            96405.7
           ]
          },
          {
           "axis": {
            "matches": true
           },
           "label": "Volatility",
           "values": [
            21.92,
            22.59,
            19.26,
            17.47,
            35.54,
            32.86,
            23.89,
            22.5,
            21.83,
            21.36,
            17.63,
            21.01,
            17.4,
            18.3,
            15.87,
            23.66,
            31.82,
            34.77,
            27.41,
            18.55,
            17.26,
            16.6,
            26.66,
            18.96,
            16.32,
            16.69,
            12.9,
            15.36,
            13.58,
            14.49,
            16.37,
            12.94,
            15.54,
            13.28,
            13.1,
            13.25,
            11.15,
            17.03,
            16.71,
            14.29,
            15.11,
            12.7,
            13.97,
            16.09,
            31.4,
            22.55,
            14.67,
            19.98,
            17.7,
            13.1,
            14.2,
            14.77,
            12.44,
            13.48,
            18.56,
            14.07,
            11.81,
            12.54,
            10.11,
            9.89,
            10.09,
            10.13,
            10.2,
            11.43,
            13.47,
            22.47,
            15.49,
            13.46,
            13.15,
            12,
            19.34,
            16.14,
            13.57,
            13.4,
            14.8,
            14.06,
            17.87,
            18.56,
            12.3,
            57.06,
            37.19,
            28.23,
            28.62,
            26.12,
            26.7,
            20.77,
            30.24,
            23.35,
            17.33,
            17.9,
            15.48,
            16.11,
            21.15,
            16.41,
            31.12,
            21.96,
            33.32,
            19.63,
            25.69,
            26.7,
            22.84,
            25.56,
            25.81,
            19.84,
            17.87,
            20.58,
            16.08,
            15.65,
            13.93,
            13.09,
            16.87,
            12.63,
            13.88,
            13.11,
            13.65,
            15.39,
            12.22,
            18.59,
            19.26,
            21.88
           ]
          },
          {
           "axis": {
            "matches": true
           },
           "label": "Interest",
           "values": [
            0.13,
            0.14,
            0.14,
            0.17,
            0.2,
            0.17,
            0.19,
            0.2,
            0.2,
            0.2,
            0.18,
            0.15,
            0.11,
            0.1,
            0.08,
            0.17,
            0.08,
            0.08,
            0.08,
            0.11,
            0.11,
            0.16,
            0.16,
            0.14,
            0.15,
            0.17,
            0.14,
            0.14,
            0.16,
            0.14,
            0.1,
            0.08,
            0.08,
            0.08,
            0.08,
            0.09,
            0.1,
            0.09,
            0.09,
            0.13,
            0.12,
            0.13,
            0.12,
            0.13,
            0.14,
            0.13,
            0.13,
            0.38,
            0.36,
            0.37,
            0.37,
            0.41,
            0.4,
            0.4,
            0.41,
            0.41,
            0.66,
            0.66,
            0.91,
            0.91,
            1.16,
            1.16,
            1.16,
            1.16,
            1.42,
            1.42,
            1.7,
            1.7,
            1.91,
            2.18,
            2.2,
            2.4,
            2.4,
            2.41,
            2.45,
            2.39,
            2.14,
            1.88,
            1.57,
            0.06,
            0.05,
            0.05,
            0.08,
            0.09,
            0.09,
            0.09,
            0.08,
            0.07,
            0.07,
            0.06,
            0.1,
            0.08,
            0.08,
            0.08,
            0.08,
            0.08,
            0.08,
            0.33,
            0.83,
            1.58,
            2.33,
            2.33,
            3.08,
            3.83,
            4.33,
            4.58,
            4.83,
            5.08,
            5.33,
            5.33,
            5.33,
            5.33,
            5.33,
            5.33,
            5.33,
            5.33,
            5.33,
            5.33,
            4.83,
            4.83
           ]
          }
         ],
         "hovertemplate": "%{xaxis.title.text}=%{x}<br>%{yaxis.title.text}=%{y}<extra></extra>",
         "legendgroup": "",
         "marker": {
          "color": "#636efa",
          "symbol": "circle"
         },
         "name": "",
         "showlegend": false,
         "type": "splom"
        }
       ],
       "layout": {
        "dragmode": "select",
        "legend": {
         "tracegroupgap": 0
        },
        "template": {
         "data": {
          "bar": [
           {
            "error_x": {
             "color": "#2a3f5f"
            },
            "error_y": {
             "color": "#2a3f5f"
            },
            "marker": {
             "line": {
              "color": "#E5ECF6",
              "width": 0.5
             },
             "pattern": {
              "fillmode": "overlay",
              "size": 10,
              "solidity": 0.2
             }
            },
            "type": "bar"
           }
          ],
          "barpolar": [
           {
            "marker": {
             "line": {
              "color": "#E5ECF6",
              "width": 0.5
             },
             "pattern": {
              "fillmode": "overlay",
              "size": 10,
              "solidity": 0.2
             }
            },
            "type": "barpolar"
           }
          ],
          "carpet": [
           {
            "aaxis": {
             "endlinecolor": "#2a3f5f",
             "gridcolor": "white",
             "linecolor": "white",
             "minorgridcolor": "white",
             "startlinecolor": "#2a3f5f"
            },
            "baxis": {
             "endlinecolor": "#2a3f5f",
             "gridcolor": "white",
             "linecolor": "white",
             "minorgridcolor": "white",
             "startlinecolor": "#2a3f5f"
            },
            "type": "carpet"
           }
          ],
          "choropleth": [
           {
            "colorbar": {
             "outlinewidth": 0,
             "ticks": ""
            },
            "type": "choropleth"
           }
          ],
          "contour": [
           {
            "colorbar": {
             "outlinewidth": 0,
             "ticks": ""
            },
            "colorscale": [
             [
              0,
              "#0d0887"
             ],
             [
              0.1111111111111111,
              "#46039f"
             ],
             [
              0.2222222222222222,
              "#7201a8"
             ],
             [
              0.3333333333333333,
              "#9c179e"
             ],
             [
              0.4444444444444444,
              "#bd3786"
             ],
             [
              0.5555555555555556,
              "#d8576b"
             ],
             [
              0.6666666666666666,
              "#ed7953"
             ],
             [
              0.7777777777777778,
              "#fb9f3a"
             ],
             [
              0.8888888888888888,
              "#fdca26"
             ],
             [
              1,
              "#f0f921"
             ]
            ],
            "type": "contour"
           }
          ],
          "contourcarpet": [
           {
            "colorbar": {
             "outlinewidth": 0,
             "ticks": ""
            },
            "type": "contourcarpet"
           }
          ],
          "heatmap": [
           {
            "colorbar": {
             "outlinewidth": 0,
             "ticks": ""
            },
            "colorscale": [
             [
              0,
              "#0d0887"
             ],
             [
              0.1111111111111111,
              "#46039f"
             ],
             [
              0.2222222222222222,
              "#7201a8"
             ],
             [
              0.3333333333333333,
              "#9c179e"
             ],
             [
              0.4444444444444444,
              "#bd3786"
             ],
             [
              0.5555555555555556,
              "#d8576b"
             ],
             [
              0.6666666666666666,
              "#ed7953"
             ],
             [
              0.7777777777777778,
              "#fb9f3a"
             ],
             [
              0.8888888888888888,
              "#fdca26"
             ],
             [
              1,
              "#f0f921"
             ]
            ],
            "type": "heatmap"
           }
          ],
          "heatmapgl": [
           {
            "colorbar": {
             "outlinewidth": 0,
             "ticks": ""
            },
            "colorscale": [
             [
              0,
              "#0d0887"
             ],
             [
              0.1111111111111111,
              "#46039f"
             ],
             [
              0.2222222222222222,
              "#7201a8"
             ],
             [
              0.3333333333333333,
              "#9c179e"
             ],
             [
              0.4444444444444444,
              "#bd3786"
             ],
             [
              0.5555555555555556,
              "#d8576b"
             ],
             [
              0.6666666666666666,
              "#ed7953"
             ],
             [
              0.7777777777777778,
              "#fb9f3a"
             ],
             [
              0.8888888888888888,
              "#fdca26"
             ],
             [
              1,
              "#f0f921"
             ]
            ],
            "type": "heatmapgl"
           }
          ],
          "histogram": [
           {
            "marker": {
             "pattern": {
              "fillmode": "overlay",
              "size": 10,
              "solidity": 0.2
             }
            },
            "type": "histogram"
           }
          ],
          "histogram2d": [
           {
            "colorbar": {
             "outlinewidth": 0,
             "ticks": ""
            },
            "colorscale": [
             [
              0,
              "#0d0887"
             ],
             [
              0.1111111111111111,
              "#46039f"
             ],
             [
              0.2222222222222222,
              "#7201a8"
             ],
             [
              0.3333333333333333,
              "#9c179e"
             ],
             [
              0.4444444444444444,
              "#bd3786"
             ],
             [
              0.5555555555555556,
              "#d8576b"
             ],
             [
              0.6666666666666666,
              "#ed7953"
             ],
             [
              0.7777777777777778,
              "#fb9f3a"
             ],
             [
              0.8888888888888888,
              "#fdca26"
             ],
             [
              1,
              "#f0f921"
             ]
            ],
            "type": "histogram2d"
           }
          ],
          "histogram2dcontour": [
           {
            "colorbar": {
             "outlinewidth": 0,
             "ticks": ""
            },
            "colorscale": [
             [
              0,
              "#0d0887"
             ],
             [
              0.1111111111111111,
              "#46039f"
             ],
             [
              0.2222222222222222,
              "#7201a8"
             ],
             [
              0.3333333333333333,
              "#9c179e"
             ],
             [
              0.4444444444444444,
              "#bd3786"
             ],
             [
              0.5555555555555556,
              "#d8576b"
             ],
             [
              0.6666666666666666,
              "#ed7953"
             ],
             [
              0.7777777777777778,
              "#fb9f3a"
             ],
             [
              0.8888888888888888,
              "#fdca26"
             ],
             [
              1,
              "#f0f921"
             ]
            ],
            "type": "histogram2dcontour"
           }
          ],
          "mesh3d": [
           {
            "colorbar": {
             "outlinewidth": 0,
             "ticks": ""
            },
            "type": "mesh3d"
           }
          ],
          "parcoords": [
           {
            "line": {
             "colorbar": {
              "outlinewidth": 0,
              "ticks": ""
             }
            },
            "type": "parcoords"
           }
          ],
          "pie": [
           {
            "automargin": true,
            "type": "pie"
           }
          ],
          "scatter": [
           {
            "fillpattern": {
             "fillmode": "overlay",
             "size": 10,
             "solidity": 0.2
            },
            "type": "scatter"
           }
          ],
          "scatter3d": [
           {
            "line": {
             "colorbar": {
              "outlinewidth": 0,
              "ticks": ""
             }
            },
            "marker": {
             "colorbar": {
              "outlinewidth": 0,
              "ticks": ""
             }
            },
            "type": "scatter3d"
           }
          ],
          "scattercarpet": [
           {
            "marker": {
             "colorbar": {
              "outlinewidth": 0,
              "ticks": ""
             }
            },
            "type": "scattercarpet"
           }
          ],
          "scattergeo": [
           {
            "marker": {
             "colorbar": {
              "outlinewidth": 0,
              "ticks": ""
             }
            },
            "type": "scattergeo"
           }
          ],
          "scattergl": [
           {
            "marker": {
             "colorbar": {
              "outlinewidth": 0,
              "ticks": ""
             }
            },
            "type": "scattergl"
           }
          ],
          "scattermapbox": [
           {
            "marker": {
             "colorbar": {
              "outlinewidth": 0,
              "ticks": ""
             }
            },
            "type": "scattermapbox"
           }
          ],
          "scatterpolar": [
           {
            "marker": {
             "colorbar": {
              "outlinewidth": 0,
              "ticks": ""
             }
            },
            "type": "scatterpolar"
           }
          ],
          "scatterpolargl": [
           {
            "marker": {
             "colorbar": {
              "outlinewidth": 0,
              "ticks": ""
             }
            },
            "type": "scatterpolargl"
           }
          ],
          "scatterternary": [
           {
            "marker": {
             "colorbar": {
              "outlinewidth": 0,
              "ticks": ""
             }
            },
            "type": "scatterternary"
           }
          ],
          "surface": [
           {
            "colorbar": {
             "outlinewidth": 0,
             "ticks": ""
            },
            "colorscale": [
             [
              0,
              "#0d0887"
             ],
             [
              0.1111111111111111,
              "#46039f"
             ],
             [
              0.2222222222222222,
              "#7201a8"
             ],
             [
              0.3333333333333333,
              "#9c179e"
             ],
             [
              0.4444444444444444,
              "#bd3786"
             ],
             [
              0.5555555555555556,
              "#d8576b"
             ],
             [
              0.6666666666666666,
              "#ed7953"
             ],
             [
              0.7777777777777778,
              "#fb9f3a"
             ],
             [
              0.8888888888888888,
              "#fdca26"
             ],
             [
              1,
              "#f0f921"
             ]
            ],
            "type": "surface"
           }
          ],
          "table": [
           {
            "cells": {
             "fill": {
              "color": "#EBF0F8"
             },
             "line": {
              "color": "white"
             }
            },
            "header": {
             "fill": {
              "color": "#C8D4E3"
             },
             "line": {
              "color": "white"
             }
            },
            "type": "table"
           }
          ]
         },
         "layout": {
          "annotationdefaults": {
           "arrowcolor": "#2a3f5f",
           "arrowhead": 0,
           "arrowwidth": 1
          },
          "autotypenumbers": "strict",
          "coloraxis": {
           "colorbar": {
            "outlinewidth": 0,
            "ticks": ""
           }
          },
          "colorscale": {
           "diverging": [
            [
             0,
             "#8e0152"
            ],
            [
             0.1,
             "#c51b7d"
            ],
            [
             0.2,
             "#de77ae"
            ],
            [
             0.3,
             "#f1b6da"
            ],
            [
             0.4,
             "#fde0ef"
            ],
            [
             0.5,
             "#f7f7f7"
            ],
            [
             0.6,
             "#e6f5d0"
            ],
            [
             0.7,
             "#b8e186"
            ],
            [
             0.8,
             "#7fbc41"
            ],
            [
             0.9,
             "#4d9221"
            ],
            [
             1,
             "#276419"
            ]
           ],
           "sequential": [
            [
             0,
             "#0d0887"
            ],
            [
             0.1111111111111111,
             "#46039f"
            ],
            [
             0.2222222222222222,
             "#7201a8"
            ],
            [
             0.3333333333333333,
             "#9c179e"
            ],
            [
             0.4444444444444444,
             "#bd3786"
            ],
            [
             0.5555555555555556,
             "#d8576b"
            ],
            [
             0.6666666666666666,
             "#ed7953"
            ],
            [
             0.7777777777777778,
             "#fb9f3a"
            ],
            [
             0.8888888888888888,
             "#fdca26"
            ],
            [
             1,
             "#f0f921"
            ]
           ],
           "sequentialminus": [
            [
             0,
             "#0d0887"
            ],
            [
             0.1111111111111111,
             "#46039f"
            ],
            [
             0.2222222222222222,
             "#7201a8"
            ],
            [
             0.3333333333333333,
             "#9c179e"
            ],
            [
             0.4444444444444444,
             "#bd3786"
            ],
            [
             0.5555555555555556,
             "#d8576b"
            ],
            [
             0.6666666666666666,
             "#ed7953"
            ],
            [
             0.7777777777777778,
             "#fb9f3a"
            ],
            [
             0.8888888888888888,
             "#fdca26"
            ],
            [
             1,
             "#f0f921"
            ]
           ]
          },
          "colorway": [
           "#636efa",
           "#EF553B",
           "#00cc96",
           "#ab63fa",
           "#FFA15A",
           "#19d3f3",
           "#FF6692",
           "#B6E880",
           "#FF97FF",
           "#FECB52"
          ],
          "font": {
           "color": "#2a3f5f"
          },
          "geo": {
           "bgcolor": "white",
           "lakecolor": "white",
           "landcolor": "#E5ECF6",
           "showlakes": true,
           "showland": true,
           "subunitcolor": "white"
          },
          "hoverlabel": {
           "align": "left"
          },
          "hovermode": "closest",
          "mapbox": {
           "style": "light"
          },
          "paper_bgcolor": "white",
          "plot_bgcolor": "#E5ECF6",
          "polar": {
           "angularaxis": {
            "gridcolor": "white",
            "linecolor": "white",
            "ticks": ""
           },
           "bgcolor": "#E5ECF6",
           "radialaxis": {
            "gridcolor": "white",
            "linecolor": "white",
            "ticks": ""
           }
          },
          "scene": {
           "xaxis": {
            "backgroundcolor": "#E5ECF6",
            "gridcolor": "white",
            "gridwidth": 2,
            "linecolor": "white",
            "showbackground": true,
            "ticks": "",
            "zerolinecolor": "white"
           },
           "yaxis": {
            "backgroundcolor": "#E5ECF6",
            "gridcolor": "white",
            "gridwidth": 2,
            "linecolor": "white",
            "showbackground": true,
            "ticks": "",
            "zerolinecolor": "white"
           },
           "zaxis": {
            "backgroundcolor": "#E5ECF6",
            "gridcolor": "white",
            "gridwidth": 2,
            "linecolor": "white",
            "showbackground": true,
            "ticks": "",
            "zerolinecolor": "white"
           }
          },
          "shapedefaults": {
           "line": {
            "color": "#2a3f5f"
           }
          },
          "ternary": {
           "aaxis": {
            "gridcolor": "white",
            "linecolor": "white",
            "ticks": ""
           },
           "baxis": {
            "gridcolor": "white",
            "linecolor": "white",
            "ticks": ""
           },
           "bgcolor": "#E5ECF6",
           "caxis": {
            "gridcolor": "white",
            "linecolor": "white",
            "ticks": ""
           }
          },
          "title": {
           "x": 0.05
          },
          "xaxis": {
           "automargin": true,
           "gridcolor": "white",
           "linecolor": "white",
           "ticks": "",
           "title": {
            "standoff": 15
           },
           "zerolinecolor": "white",
           "zerolinewidth": 2
          },
          "yaxis": {
           "automargin": true,
           "gridcolor": "white",
           "linecolor": "white",
           "ticks": "",
           "title": {
            "standoff": 15
           },
           "zerolinecolor": "white",
           "zerolinewidth": 2
          }
         }
        },
        "title": {
         "text": "Scatter Matrix: Bitcoin, Gold, Interest Rate, Volatility Expectation"
        }
       }
      }
     },
     "metadata": {},
     "output_type": "display_data"
    }
   ],
   "source": [
    "import pandas as pd\n",
    "import numpy as np\n",
    "import seaborn as sns\n",
    "import matplotlib.pyplot as plt\n",
    "import plotly.express as px\n",
    "\n",
    "# Load data\n",
    "gold_btc_df = pd.read_csv(\"merged_gold_btc_prices.csv\")\n",
    "gold_btc_df = gold_btc_df[gold_btc_df['Date'] >= '2009-10-01']\n",
    "macro_df = pd.read_csv(\"macro_economic_data.csv\")\n",
    "\n",
    "# Merge all the data\n",
    "merged_df = pd.merge(gold_btc_df,macro_df,left_on='Date',right_on='DATE',how='left'\n",
    ")\n",
    "\n",
    "merged_df.drop(columns=['DATE'], inplace=True)\n",
    "\n",
    "# Rename columns\n",
    "merged_df.rename(columns={\n",
    "    'Price_Gold': 'Gold Price',\n",
    "    'Price_BTC': 'Bitcoin Price',\n",
    "    'VIXCLS': 'Volatility Expectation',\n",
    "    'DFF': 'Interest Rate'\n",
    "}, inplace=True)\n",
    "\n",
    "# Check for invalid columns and convert to numeric\n",
    "cols_to_clean = ['Gold Price', 'Bitcoin Price', 'Volatility Expectation', 'Interest Rate']\n",
    "for col in cols_to_clean:\n",
    "    merged_df[col] = pd.to_numeric(merged_df[col], errors='coerce')\n",
    "\n",
    "# Drop rows with NaN values\n",
    "merged_df.dropna(subset=cols_to_clean, inplace=True)\n",
    "\n",
    "# Correlation matrix used for analysis\n",
    "\n",
    "correlation_matrix = merged_df[cols_to_clean].corr()\n",
    "print(\"\\nCorrelation Matrix:\")\n",
    "print(correlation_matrix)\n",
    "\n",
    "# Display correlation results using heatmap\n",
    "plt.figure(figsize=(10, 6))\n",
    "sns.heatmap(correlation_matrix, annot=True, cmap='coolwarm', fmt='.2f', cbar=True)\n",
    "plt.title('Correlation Matrix: Bitcoin, Gold, Interest Rate, Volatility Expectation')\n",
    "plt.show()\n",
    "\n",
    "\n",
    "# Display results using scatter matrix\n",
    "fig = px.scatter_matrix(\n",
    "    merged_df,\n",
    "    dimensions=cols_to_clean,\n",
    "    title='Scatter Matrix: Bitcoin, Gold, Interest Rate, Volatility Expectation',\n",
    "    labels={\n",
    "        'Gold Price': 'Gold',\n",
    "        'Bitcoin Price': 'Bitcoin',\n",
    "        'Volatility Expectation': 'Volatility',\n",
    "        'Interest Rate': 'Interest'\n",
    "    }\n",
    ")\n",
    "fig.show()\n"
   ]
  },
  {
   "cell_type": "markdown",
   "metadata": {},
   "source": [
    "# 2. Volatility Analysis # "
   ]
  },
  {
   "cell_type": "code",
   "execution_count": 8,
   "metadata": {},
   "outputs": [
    {
     "data": {
      "application/vnd.plotly.v1+json": {
       "config": {
        "plotlyServerURL": "https://plot.ly"
       },
       "data": [
        {
         "line": {
          "color": "blue"
         },
         "mode": "lines",
         "name": "Bitcoin Volatility",
         "type": "scatter",
         "x": [
          "2009-12-01",
          "2010-02-01",
          "2010-03-01",
          "2010-04-01",
          "2010-06-01",
          "2010-07-01",
          "2010-09-01",
          "2010-10-01",
          "2010-11-01",
          "2010-12-01",
          "2011-02-01",
          "2011-03-01",
          "2011-04-01",
          "2011-06-01",
          "2011-07-01",
          "2011-08-01",
          "2011-09-01",
          "2011-11-01",
          "2011-12-01",
          "2012-02-01",
          "2012-03-01",
          "2012-05-01",
          "2012-06-01",
          "2012-08-01",
          "2012-10-01",
          "2012-11-01",
          "2013-02-01",
          "2013-03-01",
          "2013-04-01",
          "2013-05-01",
          "2013-07-01",
          "2013-08-01",
          "2013-10-01",
          "2013-11-01",
          "2014-04-01",
          "2014-05-01",
          "2014-07-01",
          "2014-08-01",
          "2014-10-01",
          "2014-12-01",
          "2015-04-01",
          "2015-05-01",
          "2015-06-01",
          "2015-07-01",
          "2015-09-01",
          "2015-10-01",
          "2015-12-01",
          "2016-02-01",
          "2016-03-01",
          "2016-04-01",
          "2016-06-01",
          "2016-07-01",
          "2016-08-01",
          "2016-09-01",
          "2016-11-01",
          "2016-12-01",
          "2017-02-01",
          "2017-03-01",
          "2017-05-01",
          "2017-06-01",
          "2017-08-01",
          "2017-09-01",
          "2017-11-01",
          "2017-12-01",
          "2018-02-01",
          "2018-03-01",
          "2018-05-01",
          "2018-06-01",
          "2018-08-01",
          "2018-10-01",
          "2018-11-01",
          "2019-02-01",
          "2019-03-01",
          "2019-04-01",
          "2019-05-01",
          "2019-07-01",
          "2019-08-01",
          "2019-10-01",
          "2019-11-01",
          "2020-04-01",
          "2020-05-01",
          "2020-06-01",
          "2020-07-01",
          "2020-09-01",
          "2020-10-01",
          "2020-12-01",
          "2021-02-01",
          "2021-03-01",
          "2021-04-01",
          "2021-06-01",
          "2021-07-01",
          "2021-09-01",
          "2021-10-01",
          "2021-11-01",
          "2021-12-01",
          "2022-02-01",
          "2022-03-01",
          "2022-04-01",
          "2022-06-01",
          "2022-07-01",
          "2022-08-01",
          "2022-09-01",
          "2022-11-01",
          "2022-12-01",
          "2023-02-01",
          "2023-03-01",
          "2023-05-01",
          "2023-06-01",
          "2023-08-01",
          "2023-09-01",
          "2023-11-01",
          "2023-12-01",
          "2024-02-01",
          "2024-03-01",
          "2024-04-01",
          "2024-05-01",
          "2024-07-01",
          "2024-08-01",
          "2024-10-01",
          "2024-11-01"
         ],
         "y": [
          null,
          null,
          null,
          null,
          null,
          null,
          null,
          null,
          null,
          null,
          null,
          null,
          null,
          null,
          null,
          null,
          null,
          null,
          null,
          null,
          null,
          null,
          null,
          null,
          null,
          null,
          null,
          null,
          null,
          null,
          null,
          null,
          null,
          null,
          null,
          226.9883201465358,
          213.78494030365314,
          213.86910394882344,
          212.79833360903007,
          212.956590005114,
          212.19496775832346,
          212.4838106692289,
          212.34139169592927,
          57.31767901528828,
          57.182862645963525,
          56.87798444647698,
          56.06857086453729,
          53.87550634527405,
          53.63052536668807,
          52.13201791868133,
          51.51855208612949,
          51.33078892139674,
          51.62236217132455,
          50.80559402706378,
          50.79561289640861,
          50.44833391404823,
          48.66600343929791,
          47.83988713616262,
          33.236511430209134,
          35.10144306914445,
          34.18750788954988,
          36.154764597755765,
          36.24039208182113,
          36.34427704984502,
          28.65061457019653,
          28.462167377686125,
          28.622670771241058,
          28.93332924594843,
          27.562801612683174,
          27.88697202223586,
          26.57960621631134,
          28.519798921333184,
          28.349795170148308,
          28.36360929649554,
          28.135830598443135,
          31.695567627527563,
          31.16808474650799,
          31.758731995271457,
          31.763660265353224,
          32.54801672405313,
          32.59615304243863,
          32.527314321865944,
          32.39611598496975,
          32.32270528546823,
          32.57255900247866,
          34.48252883684972,
          36.23498249536853,
          36.63746258871662,
          36.62790160614557,
          36.41748700463283,
          36.66505037937322,
          35.00063580851862,
          34.81006919289494,
          33.72577345886748,
          33.473524623805815,
          34.39816354756278,
          34.05218166975798,
          33.682721329701224,
          34.52629675642071,
          35.26402771990746,
          35.19260641810471,
          33.93553533443422,
          33.97153838117055,
          34.33186309866122,
          34.52094632239844,
          30.535228497475504,
          30.62720975620126,
          30.31040307368373,
          30.30442160872323,
          29.78587729071618,
          29.917268879482847,
          29.917755714085477,
          29.819726814390222,
          31.29249679567083,
          31.38920326250654,
          28.75767063293312,
          25.55479247353005,
          24.356341599881205,
          24.37402609621501,
          23.861490249894615
         ]
        },
        {
         "line": {
          "color": "gold"
         },
         "mode": "lines",
         "name": "Gold Volatility",
         "type": "scatter",
         "x": [
          "2009-12-01",
          "2010-02-01",
          "2010-03-01",
          "2010-04-01",
          "2010-06-01",
          "2010-07-01",
          "2010-09-01",
          "2010-10-01",
          "2010-11-01",
          "2010-12-01",
          "2011-02-01",
          "2011-03-01",
          "2011-04-01",
          "2011-06-01",
          "2011-07-01",
          "2011-08-01",
          "2011-09-01",
          "2011-11-01",
          "2011-12-01",
          "2012-02-01",
          "2012-03-01",
          "2012-05-01",
          "2012-06-01",
          "2012-08-01",
          "2012-10-01",
          "2012-11-01",
          "2013-02-01",
          "2013-03-01",
          "2013-04-01",
          "2013-05-01",
          "2013-07-01",
          "2013-08-01",
          "2013-10-01",
          "2013-11-01",
          "2014-04-01",
          "2014-05-01",
          "2014-07-01",
          "2014-08-01",
          "2014-10-01",
          "2014-12-01",
          "2015-04-01",
          "2015-05-01",
          "2015-06-01",
          "2015-07-01",
          "2015-09-01",
          "2015-10-01",
          "2015-12-01",
          "2016-02-01",
          "2016-03-01",
          "2016-04-01",
          "2016-06-01",
          "2016-07-01",
          "2016-08-01",
          "2016-09-01",
          "2016-11-01",
          "2016-12-01",
          "2017-02-01",
          "2017-03-01",
          "2017-05-01",
          "2017-06-01",
          "2017-08-01",
          "2017-09-01",
          "2017-11-01",
          "2017-12-01",
          "2018-02-01",
          "2018-03-01",
          "2018-05-01",
          "2018-06-01",
          "2018-08-01",
          "2018-10-01",
          "2018-11-01",
          "2019-02-01",
          "2019-03-01",
          "2019-04-01",
          "2019-05-01",
          "2019-07-01",
          "2019-08-01",
          "2019-10-01",
          "2019-11-01",
          "2020-04-01",
          "2020-05-01",
          "2020-06-01",
          "2020-07-01",
          "2020-09-01",
          "2020-10-01",
          "2020-12-01",
          "2021-02-01",
          "2021-03-01",
          "2021-04-01",
          "2021-06-01",
          "2021-07-01",
          "2021-09-01",
          "2021-10-01",
          "2021-11-01",
          "2021-12-01",
          "2022-02-01",
          "2022-03-01",
          "2022-04-01",
          "2022-06-01",
          "2022-07-01",
          "2022-08-01",
          "2022-09-01",
          "2022-11-01",
          "2022-12-01",
          "2023-02-01",
          "2023-03-01",
          "2023-05-01",
          "2023-06-01",
          "2023-08-01",
          "2023-09-01",
          "2023-11-01",
          "2023-12-01",
          "2024-02-01",
          "2024-03-01",
          "2024-04-01",
          "2024-05-01",
          "2024-07-01",
          "2024-08-01",
          "2024-10-01",
          "2024-11-01"
         ],
         "y": [
          null,
          null,
          null,
          null,
          null,
          null,
          null,
          null,
          null,
          null,
          null,
          null,
          null,
          null,
          null,
          null,
          null,
          null,
          null,
          null,
          null,
          null,
          null,
          null,
          null,
          null,
          null,
          null,
          null,
          null,
          4.939888207218961,
          4.938145552684642,
          4.965790798445852,
          4.985834081141328,
          4.823391995656922,
          4.789353640240414,
          4.6661633730121315,
          4.557711710210169,
          4.652256398523598,
          4.647573415977693,
          4.642139803231072,
          4.577676536423271,
          4.513470504805573,
          4.485764318127564,
          4.436704283544189,
          3.756163326448436,
          3.8977004044801604,
          4.601814810301095,
          4.6518475813354865,
          4.498655316800046,
          4.511671429203611,
          4.548038314042873,
          4.545159393104937,
          4.524137866151211,
          4.3875690689481335,
          4.525254072473356,
          4.696776526999702,
          4.688062630158752,
          4.566003047725666,
          4.506125219823253,
          4.181934555273907,
          4.121431653559989,
          4.127354440440586,
          4.101686081271747,
          4.2064450768164345,
          4.205190110021938,
          4.205562632320514,
          4.210816902536518,
          4.2400718918353375,
          4.228376101753908,
          4.228618951488283,
          4.468136883879993,
          4.46860813544003,
          4.390434590811969,
          4.388928901516735,
          4.72288544941156,
          4.529138709106205,
          4.065081390210137,
          4.032461238878912,
          4.719231246673902,
          4.714998404125406,
          4.656814588908851,
          4.749319003940372,
          4.741101413219596,
          4.526977029182284,
          4.229532401632931,
          4.523083685965982,
          4.530500912328715,
          4.542740600343211,
          4.546785447168813,
          4.552893905877922,
          4.6188379689054555,
          4.56793403181221,
          4.552782480581114,
          4.4974771136617635,
          4.51266041627293,
          4.485180342370129,
          4.498461754790928,
          4.453433901849947,
          4.483902570728847,
          4.5567438650978085,
          4.415917866422267,
          4.46747188561422,
          4.471807832318102,
          4.462429436527053,
          4.327915852778911,
          4.259700377650625,
          4.307869691218522,
          4.285444283630218,
          3.6049655561876315,
          3.8570026633013264,
          3.86068263541322,
          3.726379789637185,
          3.976573323043259,
          3.9986871904784618,
          4.000136673170509,
          3.638746536575372,
          3.62851659049004,
          3.931558902145026,
          4.009745666739293
         ]
        },
        {
         "line": {
          "color": "green",
          "dash": "dot"
         },
         "mode": "lines",
         "name": "VIX Rolling Avg",
         "type": "scatter",
         "x": [
          "2009-12-01",
          "2010-02-01",
          "2010-03-01",
          "2010-04-01",
          "2010-06-01",
          "2010-07-01",
          "2010-09-01",
          "2010-10-01",
          "2010-11-01",
          "2010-12-01",
          "2011-02-01",
          "2011-03-01",
          "2011-04-01",
          "2011-06-01",
          "2011-07-01",
          "2011-08-01",
          "2011-09-01",
          "2011-11-01",
          "2011-12-01",
          "2012-02-01",
          "2012-03-01",
          "2012-05-01",
          "2012-06-01",
          "2012-08-01",
          "2012-10-01",
          "2012-11-01",
          "2013-02-01",
          "2013-03-01",
          "2013-04-01",
          "2013-05-01",
          "2013-07-01",
          "2013-08-01",
          "2013-10-01",
          "2013-11-01",
          "2014-04-01",
          "2014-05-01",
          "2014-07-01",
          "2014-08-01",
          "2014-10-01",
          "2014-12-01",
          "2015-04-01",
          "2015-05-01",
          "2015-06-01",
          "2015-07-01",
          "2015-09-01",
          "2015-10-01",
          "2015-12-01",
          "2016-02-01",
          "2016-03-01",
          "2016-04-01",
          "2016-06-01",
          "2016-07-01",
          "2016-08-01",
          "2016-09-01",
          "2016-11-01",
          "2016-12-01",
          "2017-02-01",
          "2017-03-01",
          "2017-05-01",
          "2017-06-01",
          "2017-08-01",
          "2017-09-01",
          "2017-11-01",
          "2017-12-01",
          "2018-02-01",
          "2018-03-01",
          "2018-05-01",
          "2018-06-01",
          "2018-08-01",
          "2018-10-01",
          "2018-11-01",
          "2019-02-01",
          "2019-03-01",
          "2019-04-01",
          "2019-05-01",
          "2019-07-01",
          "2019-08-01",
          "2019-10-01",
          "2019-11-01",
          "2020-04-01",
          "2020-05-01",
          "2020-06-01",
          "2020-07-01",
          "2020-09-01",
          "2020-10-01",
          "2020-12-01",
          "2021-02-01",
          "2021-03-01",
          "2021-04-01",
          "2021-06-01",
          "2021-07-01",
          "2021-09-01",
          "2021-10-01",
          "2021-11-01",
          "2021-12-01",
          "2022-02-01",
          "2022-03-01",
          "2022-04-01",
          "2022-06-01",
          "2022-07-01",
          "2022-08-01",
          "2022-09-01",
          "2022-11-01",
          "2022-12-01",
          "2023-02-01",
          "2023-03-01",
          "2023-05-01",
          "2023-06-01",
          "2023-08-01",
          "2023-09-01",
          "2023-11-01",
          "2023-12-01",
          "2024-02-01",
          "2024-03-01",
          "2024-04-01",
          "2024-05-01",
          "2024-07-01",
          "2024-08-01",
          "2024-10-01",
          "2024-11-01"
         ],
         "y": [
          null,
          null,
          null,
          null,
          null,
          null,
          null,
          null,
          null,
          null,
          null,
          null,
          null,
          null,
          null,
          null,
          null,
          null,
          null,
          null,
          null,
          null,
          null,
          null,
          null,
          null,
          null,
          null,
          null,
          21.148666666666667,
          20.96366666666667,
          20.642,
          20.518000000000004,
          20.378333333333334,
          19.630333333333336,
          18.97666666666667,
          18.552000000000003,
          18.369666666666667,
          18.199,
          17.96333333333333,
          17.87933333333333,
          17.60233333333333,
          17.488,
          17.41433333333333,
          17.932000000000002,
          17.895,
          17.32333333333333,
          16.830333333333332,
          16.506666666666668,
          16.325,
          16.223,
          16.162,
          15.687999999999999,
          15.505333333333333,
          15.58,
          15.492666666666668,
          15.456333333333333,
          15.362333333333334,
          15.246666666666666,
          15.093333333333334,
          14.884000000000002,
          14.790333333333335,
          14.612333333333334,
          14.550666666666668,
          14.562999999999999,
          14.870333333333333,
          15.015000000000002,
          14.895999999999999,
          14.777333333333333,
          14.700999999999999,
          14.842,
          14.956666666666667,
          14.943333333333333,
          14.853666666666667,
          14.300333333333333,
          14.017333333333333,
          14.123999999999999,
          14.076666666666666,
          13.896666666666667,
          15.362,
          16.128333333333334,
          16.577,
          17.116333333333333,
          17.537666666666667,
          17.809,
          18.032333333333334,
          18.646666666666665,
          19.006999999999998,
          19.247666666666667,
          19.514666666666663,
          19.694333333333336,
          19.893666666666668,
          20.258666666666667,
          20.424666666666667,
          21.012999999999998,
          20.996,
          21.590333333333334,
          21.796000000000003,
          22.214,
          22.704,
          22.820666666666668,
          23.134666666666664,
          23.542666666666666,
          23.757333333333335,
          23.859666666666666,
          24.077,
          24.017333333333333,
          23.92033333333333,
          23.974666666666668,
          22.509000000000004,
          21.831666666666667,
          21.311666666666667,
          20.820333333333334,
          20.386666666666667,
          19.951666666666668,
          19.772333333333332,
          19.17166666666667,
          19.012999999999998,
          19.077333333333332,
          19.209999999999997
         ]
        }
       ],
       "layout": {
        "legend": {
         "title": {
          "text": "Assets"
         }
        },
        "template": {
         "data": {
          "bar": [
           {
            "error_x": {
             "color": "#2a3f5f"
            },
            "error_y": {
             "color": "#2a3f5f"
            },
            "marker": {
             "line": {
              "color": "white",
              "width": 0.5
             },
             "pattern": {
              "fillmode": "overlay",
              "size": 10,
              "solidity": 0.2
             }
            },
            "type": "bar"
           }
          ],
          "barpolar": [
           {
            "marker": {
             "line": {
              "color": "white",
              "width": 0.5
             },
             "pattern": {
              "fillmode": "overlay",
              "size": 10,
              "solidity": 0.2
             }
            },
            "type": "barpolar"
           }
          ],
          "carpet": [
           {
            "aaxis": {
             "endlinecolor": "#2a3f5f",
             "gridcolor": "#C8D4E3",
             "linecolor": "#C8D4E3",
             "minorgridcolor": "#C8D4E3",
             "startlinecolor": "#2a3f5f"
            },
            "baxis": {
             "endlinecolor": "#2a3f5f",
             "gridcolor": "#C8D4E3",
             "linecolor": "#C8D4E3",
             "minorgridcolor": "#C8D4E3",
             "startlinecolor": "#2a3f5f"
            },
            "type": "carpet"
           }
          ],
          "choropleth": [
           {
            "colorbar": {
             "outlinewidth": 0,
             "ticks": ""
            },
            "type": "choropleth"
           }
          ],
          "contour": [
           {
            "colorbar": {
             "outlinewidth": 0,
             "ticks": ""
            },
            "colorscale": [
             [
              0,
              "#0d0887"
             ],
             [
              0.1111111111111111,
              "#46039f"
             ],
             [
              0.2222222222222222,
              "#7201a8"
             ],
             [
              0.3333333333333333,
              "#9c179e"
             ],
             [
              0.4444444444444444,
              "#bd3786"
             ],
             [
              0.5555555555555556,
              "#d8576b"
             ],
             [
              0.6666666666666666,
              "#ed7953"
             ],
             [
              0.7777777777777778,
              "#fb9f3a"
             ],
             [
              0.8888888888888888,
              "#fdca26"
             ],
             [
              1,
              "#f0f921"
             ]
            ],
            "type": "contour"
           }
          ],
          "contourcarpet": [
           {
            "colorbar": {
             "outlinewidth": 0,
             "ticks": ""
            },
            "type": "contourcarpet"
           }
          ],
          "heatmap": [
           {
            "colorbar": {
             "outlinewidth": 0,
             "ticks": ""
            },
            "colorscale": [
             [
              0,
              "#0d0887"
             ],
             [
              0.1111111111111111,
              "#46039f"
             ],
             [
              0.2222222222222222,
              "#7201a8"
             ],
             [
              0.3333333333333333,
              "#9c179e"
             ],
             [
              0.4444444444444444,
              "#bd3786"
             ],
             [
              0.5555555555555556,
              "#d8576b"
             ],
             [
              0.6666666666666666,
              "#ed7953"
             ],
             [
              0.7777777777777778,
              "#fb9f3a"
             ],
             [
              0.8888888888888888,
              "#fdca26"
             ],
             [
              1,
              "#f0f921"
             ]
            ],
            "type": "heatmap"
           }
          ],
          "heatmapgl": [
           {
            "colorbar": {
             "outlinewidth": 0,
             "ticks": ""
            },
            "colorscale": [
             [
              0,
              "#0d0887"
             ],
             [
              0.1111111111111111,
              "#46039f"
             ],
             [
              0.2222222222222222,
              "#7201a8"
             ],
             [
              0.3333333333333333,
              "#9c179e"
             ],
             [
              0.4444444444444444,
              "#bd3786"
             ],
             [
              0.5555555555555556,
              "#d8576b"
             ],
             [
              0.6666666666666666,
              "#ed7953"
             ],
             [
              0.7777777777777778,
              "#fb9f3a"
             ],
             [
              0.8888888888888888,
              "#fdca26"
             ],
             [
              1,
              "#f0f921"
             ]
            ],
            "type": "heatmapgl"
           }
          ],
          "histogram": [
           {
            "marker": {
             "pattern": {
              "fillmode": "overlay",
              "size": 10,
              "solidity": 0.2
             }
            },
            "type": "histogram"
           }
          ],
          "histogram2d": [
           {
            "colorbar": {
             "outlinewidth": 0,
             "ticks": ""
            },
            "colorscale": [
             [
              0,
              "#0d0887"
             ],
             [
              0.1111111111111111,
              "#46039f"
             ],
             [
              0.2222222222222222,
              "#7201a8"
             ],
             [
              0.3333333333333333,
              "#9c179e"
             ],
             [
              0.4444444444444444,
              "#bd3786"
             ],
             [
              0.5555555555555556,
              "#d8576b"
             ],
             [
              0.6666666666666666,
              "#ed7953"
             ],
             [
              0.7777777777777778,
              "#fb9f3a"
             ],
             [
              0.8888888888888888,
              "#fdca26"
             ],
             [
              1,
              "#f0f921"
             ]
            ],
            "type": "histogram2d"
           }
          ],
          "histogram2dcontour": [
           {
            "colorbar": {
             "outlinewidth": 0,
             "ticks": ""
            },
            "colorscale": [
             [
              0,
              "#0d0887"
             ],
             [
              0.1111111111111111,
              "#46039f"
             ],
             [
              0.2222222222222222,
              "#7201a8"
             ],
             [
              0.3333333333333333,
              "#9c179e"
             ],
             [
              0.4444444444444444,
              "#bd3786"
             ],
             [
              0.5555555555555556,
              "#d8576b"
             ],
             [
              0.6666666666666666,
              "#ed7953"
             ],
             [
              0.7777777777777778,
              "#fb9f3a"
             ],
             [
              0.8888888888888888,
              "#fdca26"
             ],
             [
              1,
              "#f0f921"
             ]
            ],
            "type": "histogram2dcontour"
           }
          ],
          "mesh3d": [
           {
            "colorbar": {
             "outlinewidth": 0,
             "ticks": ""
            },
            "type": "mesh3d"
           }
          ],
          "parcoords": [
           {
            "line": {
             "colorbar": {
              "outlinewidth": 0,
              "ticks": ""
             }
            },
            "type": "parcoords"
           }
          ],
          "pie": [
           {
            "automargin": true,
            "type": "pie"
           }
          ],
          "scatter": [
           {
            "fillpattern": {
             "fillmode": "overlay",
             "size": 10,
             "solidity": 0.2
            },
            "type": "scatter"
           }
          ],
          "scatter3d": [
           {
            "line": {
             "colorbar": {
              "outlinewidth": 0,
              "ticks": ""
             }
            },
            "marker": {
             "colorbar": {
              "outlinewidth": 0,
              "ticks": ""
             }
            },
            "type": "scatter3d"
           }
          ],
          "scattercarpet": [
           {
            "marker": {
             "colorbar": {
              "outlinewidth": 0,
              "ticks": ""
             }
            },
            "type": "scattercarpet"
           }
          ],
          "scattergeo": [
           {
            "marker": {
             "colorbar": {
              "outlinewidth": 0,
              "ticks": ""
             }
            },
            "type": "scattergeo"
           }
          ],
          "scattergl": [
           {
            "marker": {
             "colorbar": {
              "outlinewidth": 0,
              "ticks": ""
             }
            },
            "type": "scattergl"
           }
          ],
          "scattermapbox": [
           {
            "marker": {
             "colorbar": {
              "outlinewidth": 0,
              "ticks": ""
             }
            },
            "type": "scattermapbox"
           }
          ],
          "scatterpolar": [
           {
            "marker": {
             "colorbar": {
              "outlinewidth": 0,
              "ticks": ""
             }
            },
            "type": "scatterpolar"
           }
          ],
          "scatterpolargl": [
           {
            "marker": {
             "colorbar": {
              "outlinewidth": 0,
              "ticks": ""
             }
            },
            "type": "scatterpolargl"
           }
          ],
          "scatterternary": [
           {
            "marker": {
             "colorbar": {
              "outlinewidth": 0,
              "ticks": ""
             }
            },
            "type": "scatterternary"
           }
          ],
          "surface": [
           {
            "colorbar": {
             "outlinewidth": 0,
             "ticks": ""
            },
            "colorscale": [
             [
              0,
              "#0d0887"
             ],
             [
              0.1111111111111111,
              "#46039f"
             ],
             [
              0.2222222222222222,
              "#7201a8"
             ],
             [
              0.3333333333333333,
              "#9c179e"
             ],
             [
              0.4444444444444444,
              "#bd3786"
             ],
             [
              0.5555555555555556,
              "#d8576b"
             ],
             [
              0.6666666666666666,
              "#ed7953"
             ],
             [
              0.7777777777777778,
              "#fb9f3a"
             ],
             [
              0.8888888888888888,
              "#fdca26"
             ],
             [
              1,
              "#f0f921"
             ]
            ],
            "type": "surface"
           }
          ],
          "table": [
           {
            "cells": {
             "fill": {
              "color": "#EBF0F8"
             },
             "line": {
              "color": "white"
             }
            },
            "header": {
             "fill": {
              "color": "#C8D4E3"
             },
             "line": {
              "color": "white"
             }
            },
            "type": "table"
           }
          ]
         },
         "layout": {
          "annotationdefaults": {
           "arrowcolor": "#2a3f5f",
           "arrowhead": 0,
           "arrowwidth": 1
          },
          "autotypenumbers": "strict",
          "coloraxis": {
           "colorbar": {
            "outlinewidth": 0,
            "ticks": ""
           }
          },
          "colorscale": {
           "diverging": [
            [
             0,
             "#8e0152"
            ],
            [
             0.1,
             "#c51b7d"
            ],
            [
             0.2,
             "#de77ae"
            ],
            [
             0.3,
             "#f1b6da"
            ],
            [
             0.4,
             "#fde0ef"
            ],
            [
             0.5,
             "#f7f7f7"
            ],
            [
             0.6,
             "#e6f5d0"
            ],
            [
             0.7,
             "#b8e186"
            ],
            [
             0.8,
             "#7fbc41"
            ],
            [
             0.9,
             "#4d9221"
            ],
            [
             1,
             "#276419"
            ]
           ],
           "sequential": [
            [
             0,
             "#0d0887"
            ],
            [
             0.1111111111111111,
             "#46039f"
            ],
            [
             0.2222222222222222,
             "#7201a8"
            ],
            [
             0.3333333333333333,
             "#9c179e"
            ],
            [
             0.4444444444444444,
             "#bd3786"
            ],
            [
             0.5555555555555556,
             "#d8576b"
            ],
            [
             0.6666666666666666,
             "#ed7953"
            ],
            [
             0.7777777777777778,
             "#fb9f3a"
            ],
            [
             0.8888888888888888,
             "#fdca26"
            ],
            [
             1,
             "#f0f921"
            ]
           ],
           "sequentialminus": [
            [
             0,
             "#0d0887"
            ],
            [
             0.1111111111111111,
             "#46039f"
            ],
            [
             0.2222222222222222,
             "#7201a8"
            ],
            [
             0.3333333333333333,
             "#9c179e"
            ],
            [
             0.4444444444444444,
             "#bd3786"
            ],
            [
             0.5555555555555556,
             "#d8576b"
            ],
            [
             0.6666666666666666,
             "#ed7953"
            ],
            [
             0.7777777777777778,
             "#fb9f3a"
            ],
            [
             0.8888888888888888,
             "#fdca26"
            ],
            [
             1,
             "#f0f921"
            ]
           ]
          },
          "colorway": [
           "#636efa",
           "#EF553B",
           "#00cc96",
           "#ab63fa",
           "#FFA15A",
           "#19d3f3",
           "#FF6692",
           "#B6E880",
           "#FF97FF",
           "#FECB52"
          ],
          "font": {
           "color": "#2a3f5f"
          },
          "geo": {
           "bgcolor": "white",
           "lakecolor": "white",
           "landcolor": "white",
           "showlakes": true,
           "showland": true,
           "subunitcolor": "#C8D4E3"
          },
          "hoverlabel": {
           "align": "left"
          },
          "hovermode": "closest",
          "mapbox": {
           "style": "light"
          },
          "paper_bgcolor": "white",
          "plot_bgcolor": "white",
          "polar": {
           "angularaxis": {
            "gridcolor": "#EBF0F8",
            "linecolor": "#EBF0F8",
            "ticks": ""
           },
           "bgcolor": "white",
           "radialaxis": {
            "gridcolor": "#EBF0F8",
            "linecolor": "#EBF0F8",
            "ticks": ""
           }
          },
          "scene": {
           "xaxis": {
            "backgroundcolor": "white",
            "gridcolor": "#DFE8F3",
            "gridwidth": 2,
            "linecolor": "#EBF0F8",
            "showbackground": true,
            "ticks": "",
            "zerolinecolor": "#EBF0F8"
           },
           "yaxis": {
            "backgroundcolor": "white",
            "gridcolor": "#DFE8F3",
            "gridwidth": 2,
            "linecolor": "#EBF0F8",
            "showbackground": true,
            "ticks": "",
            "zerolinecolor": "#EBF0F8"
           },
           "zaxis": {
            "backgroundcolor": "white",
            "gridcolor": "#DFE8F3",
            "gridwidth": 2,
            "linecolor": "#EBF0F8",
            "showbackground": true,
            "ticks": "",
            "zerolinecolor": "#EBF0F8"
           }
          },
          "shapedefaults": {
           "line": {
            "color": "#2a3f5f"
           }
          },
          "ternary": {
           "aaxis": {
            "gridcolor": "#DFE8F3",
            "linecolor": "#A2B1C6",
            "ticks": ""
           },
           "baxis": {
            "gridcolor": "#DFE8F3",
            "linecolor": "#A2B1C6",
            "ticks": ""
           },
           "bgcolor": "white",
           "caxis": {
            "gridcolor": "#DFE8F3",
            "linecolor": "#A2B1C6",
            "ticks": ""
           }
          },
          "title": {
           "x": 0.05
          },
          "xaxis": {
           "automargin": true,
           "gridcolor": "#EBF0F8",
           "linecolor": "#EBF0F8",
           "ticks": "",
           "title": {
            "standoff": 15
           },
           "zerolinecolor": "#EBF0F8",
           "zerolinewidth": 2
          },
          "yaxis": {
           "automargin": true,
           "gridcolor": "#EBF0F8",
           "linecolor": "#EBF0F8",
           "ticks": "",
           "title": {
            "standoff": 15
           },
           "zerolinecolor": "#EBF0F8",
           "zerolinewidth": 2
          }
         }
        },
        "title": {
         "text": "Volatility Analysis: Bitcoin vs Gold vs VIX"
        },
        "xaxis": {
         "title": {
          "text": "Date"
         }
        },
        "yaxis": {
         "dtick": 25,
         "tick0": 0,
         "title": {
          "text": "Volatility (Rolling Std Dev %)"
         }
        }
       }
      }
     },
     "metadata": {},
     "output_type": "display_data"
    }
   ],
   "source": [
    "import pandas as pd\n",
    "import numpy as np\n",
    "import plotly.graph_objects as go\n",
    "\n",
    "# Load data\n",
    "gold_btc_df = pd.read_csv(\"merged_gold_btc_prices.csv\")\n",
    "gold_btc_df = gold_btc_df[gold_btc_df['Date'] >= '2009-10-01']\n",
    "macro_df = pd.read_csv(\"macro_economic_data.csv\")\n",
    "\n",
    "# Merge all the data\n",
    "merged_df = pd.merge(gold_btc_df,macro_df,left_on='Date',right_on='DATE',how='left'\n",
    ")\n",
    "\n",
    "merged_df.drop(columns=['DATE'], inplace=True)\n",
    "\n",
    "# Rename columns\n",
    "merged_df.rename(columns={\n",
    "    'Price_Gold': 'Gold Price',\n",
    "    'Price_BTC': 'Bitcoin Price',\n",
    "    'VIXCLS': 'Volatility Expectation',\n",
    "    'DFF': 'Interest Rate'\n",
    "}, inplace=True)\n",
    "\n",
    "# Check for invalid columns and convert to numeric\n",
    "cols_to_clean = ['Gold Price', 'Bitcoin Price', 'Volatility Expectation', 'Interest Rate']\n",
    "for col in cols_to_clean:\n",
    "    merged_df[col] = pd.to_numeric(merged_df[col], errors='coerce')\n",
    "\n",
    "# Drop rows with NaN values\n",
    "merged_df.dropna(subset=cols_to_clean, inplace=True)\n",
    "\n",
    "# Calculate the rolling standard deviation over a 30-day window to find the volatility\n",
    "merged_df['Bitcoin Price Change %'] = merged_df['Bitcoin Price'].pct_change() * 100\n",
    "merged_df['Gold Price Change %'] = merged_df['Gold Price'].pct_change() * 100\n",
    "\n",
    "merged_df['Bitcoin Volatility'] = merged_df['Bitcoin Price Change %'].rolling(window=30).std()\n",
    "merged_df['Gold Volatility'] = merged_df['Gold Price Change %'].rolling(window=30).std()\n",
    "merged_df['VIX Rolling Avg'] = merged_df['Volatility Expectation'].rolling(window=30).mean()\n",
    "\n",
    "#  Display results in a interactive line chart with Plotly\n",
    "\n",
    "fig = go.Figure()\n",
    "\n",
    "# Bitcoin Volatility\n",
    "fig.add_trace(go.Scatter(\n",
    "    x=merged_df['Date'],\n",
    "    y=merged_df['Bitcoin Volatility'],\n",
    "    mode='lines',\n",
    "    name='Bitcoin Volatility',\n",
    "    line=dict(color='blue')\n",
    "))\n",
    "\n",
    "# Gold Volatility\n",
    "fig.add_trace(go.Scatter(\n",
    "    x=merged_df['Date'],\n",
    "    y=merged_df['Gold Volatility'],\n",
    "    mode='lines',\n",
    "    name='Gold Volatility',\n",
    "    line=dict(color='gold')\n",
    "))\n",
    "\n",
    "# VIX Rolling Average\n",
    "fig.add_trace(go.Scatter(\n",
    "    x=merged_df['Date'],\n",
    "    y=merged_df['VIX Rolling Avg'],\n",
    "    mode='lines',\n",
    "    name='VIX Rolling Avg',\n",
    "    line=dict(color='green', dash='dot')  \n",
    "))\n",
    "\n",
    "fig.update_layout(\n",
    "    title='Volatility Analysis: Bitcoin vs Gold vs VIX',\n",
    "    xaxis_title='Date',\n",
    "    yaxis_title='Volatility (Rolling Std Dev %)',\n",
    "    legend_title='Assets',\n",
    "    template='plotly_white',\n",
    "    yaxis=dict(\n",
    "        tick0=0,    \n",
    "        dtick=25  \n",
    "    )\n",
    ")\n",
    "\n",
    "fig.show()\n"
   ]
  },
  {
   "cell_type": "markdown",
   "metadata": {},
   "source": [
    "# 3. Recession Analysis #"
   ]
  },
  {
   "cell_type": "code",
   "execution_count": 11,
   "metadata": {},
   "outputs": [
    {
     "name": "stdout",
     "output_type": "stream",
     "text": [
      "   Recession Year  Avg Bitcoin Price  Avg Gold Price  Latest Bitcoin Price  \\\n",
      "0            2009           0.000000     1135.010000               96405.7   \n",
      "1            2020       10792.632857     1805.867143               96405.7   \n",
      "\n",
      "   Latest Gold Price  Bitcoin Price Change (%)  Gold Price Change (%)  \n",
      "0             2681.0                  0.000000             136.209373  \n",
      "1             2681.0                793.254698              48.460534  \n"
     ]
    },
    {
     "data": {
      "image/png": "[encoded data removed]",
      "text/plain": [
       "<Figure size 1000x600 with 1 Axes>"
      ]
     },
     "metadata": {},
     "output_type": "display_data"
    }
   ],
   "source": [
    "import pandas as pd\n",
    "import matplotlib.pyplot as plt\n",
    "\n",
    "# Recession periods (2009 and 2020) used for analysis\n",
    "recession_periods = {\n",
    "    2009: ['2009-01-01', '2009-12-31'],\n",
    "    2020: ['2020-01-01', '2020-12-31']\n",
    "}\n",
    "\n",
    "# List to store results\n",
    "recession_results = []\n",
    "\n",
    "for year, dates in recession_periods.items():\n",
    "    # Filter data for the recession period\n",
    "    start_date, end_date = dates\n",
    "    period_data = merged_df[(merged_df['Date'] >= start_date) & (merged_df['Date'] <= end_date)]\n",
    "    \n",
    "    # Average prices during the recession period\n",
    "    avg_btc_price = period_data['Bitcoin Price'].mean()\n",
    "    avg_gold_price = period_data['Gold Price'].mean()\n",
    "    \n",
    "    # Present day price\n",
    "    latest_data = merged_df.iloc[-1]\n",
    "    latest_btc_price = latest_data['Bitcoin Price']\n",
    "    latest_gold_price = latest_data['Gold Price']\n",
    "    \n",
    "    # Price change from today to average in recession\n",
    "    btc_price_change = ((latest_btc_price - avg_btc_price) / avg_btc_price * 100) if avg_btc_price else 0\n",
    "    gold_price_change = ((latest_gold_price - avg_gold_price) / avg_gold_price * 100) if avg_gold_price else 0\n",
    "    \n",
    "\n",
    "    recession_results.append({\n",
    "        \"Recession Year\": year,\n",
    "        \"Avg Bitcoin Price\": avg_btc_price,\n",
    "        \"Avg Gold Price\": avg_gold_price,\n",
    "        \"Latest Bitcoin Price\": latest_btc_price,\n",
    "        \"Latest Gold Price\": latest_gold_price,\n",
    "        \"Bitcoin Price Change (%)\": btc_price_change,\n",
    "        \"Gold Price Change (%)\": gold_price_change\n",
    "    })\n",
    "# DF to display results\n",
    "recession_df = pd.DataFrame(recession_results)\n",
    "print(recession_df)\n",
    "\n",
    "# Plot the data in bar graph \n",
    "fig, ax = plt.subplots(figsize=(10, 6))\n",
    "bar_width = 0.25\n",
    "r1 = range(len(recession_df))\n",
    "r2 = [x + bar_width for x in r1]\n",
    "\n",
    "# Plot bars\n",
    "ax.bar(r1, recession_df['Bitcoin Price Change (%)'], color='blue', width=bar_width, label='Bitcoin Price Change (%)')\n",
    "ax.bar(r2, recession_df['Gold Price Change (%)'], color='gold', width=bar_width, label='Gold Price Change (%)')\n",
    "\n",
    "# labels \n",
    "ax.set_xlabel('Recession Year')\n",
    "ax.set_ylabel('Price Change (%)')\n",
    "ax.set_title('Bitcoin and Gold Price Change Since Recession Eras')\n",
    "ax.set_xticks([r + bar_width / 2 for r in range(len(recession_df))])\n",
    "ax.set_xticklabels(recession_df['Recession Year'])\n",
    "ax.legend()\n",
    "plt.show()\n"
   ]
  },
  {
   "cell_type": "markdown",
   "metadata": {},
   "source": [
    "# 4. Interest Rates and VIX vs Price Change Analysis #"
   ]
  },
  {
   "cell_type": "code",
   "execution_count": 118,
   "metadata": {},
   "outputs": [
    {
     "name": "stderr",
     "output_type": "stream",
     "text": [
      "c:\\Users\\kians\\AppData\\Local\\Programs\\Python\\Python311\\Lib\\site-packages\\numpy\\lib\\_function_base_impl.py:4620: RuntimeWarning:\n",
      "\n",
      "invalid value encountered in subtract\n",
      "\n"
     ]
    },
    {
     "data": {
      "image/png": "[encoded data removed]",
      "text/plain": [
       "<Figure size 1600x800 with 4 Axes>"
      ]
     },
     "metadata": {},
     "output_type": "display_data"
    }
   ],
   "source": [
    "import pandas as pd\n",
    "import seaborn as sns\n",
    "import matplotlib.pyplot as plt\n",
    "\n",
    "# Percentage changes for data\n",
    "merged_df['Bitcoin Price Change (%)'] = merged_df['Bitcoin Price'].pct_change(fill_method=None) * 100\n",
    "merged_df['Gold Price Change (%)'] = merged_df['Gold Price'].pct_change(fill_method=None) * 100\n",
    "merged_df['Interest Rate Change (%)'] = merged_df['Interest Rate'].pct_change(fill_method=None) * 100\n",
    "merged_df['VIX Change (%)'] = merged_df['Volatility Expectation'].pct_change(fill_method=None) * 100\n",
    "\n",
    "filtered_df = merged_df.dropna(subset=[\n",
    "    'Bitcoin Price Change (%)', \n",
    "    'Gold Price Change (%)', \n",
    "    'Interest Rate Change (%)', \n",
    "    'VIX Change (%)'\n",
    "])\n",
    "\n",
    "# Regression plots\n",
    "plt.figure(figsize=(16, 8))\n",
    "\n",
    "# Subplot 1: Bitcoin Price vs Interest Rate Change\n",
    "plt.subplot(2, 2, 1)\n",
    "sns.regplot(\n",
    "    x='Interest Rate Change (%)', \n",
    "    y='Bitcoin Price Change (%)', \n",
    "    data=filtered_df, \n",
    "    scatter_kws={'color': 'blue'}, \n",
    "    line_kws={'color': 'darkblue'}\n",
    ")\n",
    "plt.title('Bitcoin Price Change vs Interest Rate Change')\n",
    "plt.xlabel('Interest Rate Change (%)')\n",
    "plt.ylabel('Bitcoin Price Change (%)')\n",
    "\n",
    "# Subplot 2: Gold Price vs Interest Rate Change\n",
    "plt.subplot(2, 2, 2)\n",
    "sns.regplot(\n",
    "    x='Interest Rate Change (%)', \n",
    "    y='Gold Price Change (%)', \n",
    "    data=filtered_df, \n",
    "    scatter_kws={'color': 'gold'}, \n",
    "    line_kws={'color': 'darkgoldenrod'}\n",
    ")\n",
    "plt.title('Gold Price Change vs Interest Rate Change')\n",
    "plt.xlabel('Interest Rate Change (%)')\n",
    "plt.ylabel('Gold Price Change (%)')\n",
    "\n",
    "# Subplot 3: Bitcoin Price vs VIX Change\n",
    "plt.subplot(2, 2, 3)\n",
    "sns.regplot(\n",
    "    x='VIX Change (%)', \n",
    "    y='Bitcoin Price Change (%)', \n",
    "    data=filtered_df, \n",
    "    scatter_kws={'color': 'blue'}, \n",
    "    line_kws={'color': 'darkblue'}\n",
    ")\n",
    "plt.title('Bitcoin Price Change vs VIX Change')\n",
    "plt.xlabel('VIX Change (%)')\n",
    "plt.ylabel('Bitcoin Price Change (%)')\n",
    "\n",
    "# Subplot 4: Gold Price vs VIX Change\n",
    "plt.subplot(2, 2, 4)\n",
    "sns.regplot(\n",
    "    x='VIX Change (%)', \n",
    "    y='Gold Price Change (%)', \n",
    "    data=filtered_df, \n",
    "    scatter_kws={'color': 'gold'}, \n",
    "    line_kws={'color': 'darkgoldenrod'}\n",
    ")\n",
    "\n",
    "# labels\n",
    "plt.title('Gold Price Change vs VIX Change')\n",
    "plt.xlabel('VIX Change (%)')\n",
    "plt.ylabel('Gold Price Change (%)')\n",
    "plt.tight_layout()\n",
    "plt.show()\n"
   ]
  },
  {
   "cell_type": "markdown",
   "metadata": {},
   "source": [
    "# Results of Analysis #\n",
    "\n",
    "**Correlation Analysis**\n",
    "\n",
    "The correlation matrix heatmap shows a strong positive correlation (0.81) between Bitcoin and Gold prices, which means their prices often move together despite having different roles. Bitcoin has weak correlations with VIX (0.04) and interest rates (0.58), while Gold shows stronger correlations with VIX (0.18) and interest rates (0.60). Scatter matrix plots confirm these findings. Bitcoin's price scatter points lack clear trends against VIX and interest rates, while Gold shows more consistent trends with these macroeconomic factors.\n",
    "\n",
    "**Volatility Analysis**\n",
    "\n",
    "The interactive line chart reveals Bitcoin’s significantly higher rolling standard deviation compared to Gold, especially during key events like the 2020 recession. This confirms that Bitcoin is far more volatile and riskier as an investment. Gold’s lower and more stable volatility highlights its reliability as a store of value during turbulent times. The VIX (green dashed line) spikes during periods of economic uncertainty, aligning with increased volatility in both assets, although Bitcoin's spikes are far sharper.\n",
    "\n",
    "**Recession Analysis**\n",
    "\n",
    "The bar chart comparing Bitcoin and Gold price changes during recession years (2009 and 2020) highlights clear differences. Gold consistently gained modestly in both periods, confirming its role as a safe haven. Bitcoin, unavailable for most of 2009, experienced exponential growth post-2020, far outpacing Gold in today’s value. This growth likely reflects speculative demand rather than investing as a quality asset. Elevated VIX levels during recessions indicate market fear, correlating with Gold's performance.\n",
    "\n",
    "**Interest Rates and VIX vs. Price Change**\n",
    "\n",
    "The scatter plots show Gold’s slight positive sensitivity to VIX changes, with a clear upward trend in Gold price change versus VIX. This suggests Gold benefits during periods of heightened market fear. In contrast, Bitcoin’s scatter plots against interest rates and VIX reveal minimal trends, highlighting Bitcoin’s weak connection to traditional financial indicators. The flat regression lines for Bitcoin confirm its seperate behaviour from macroeconomic drivers.\n",
    "\n",
    "# Conclusion #\n",
    "Gold consistently acts as a safe-haven asset, providing stability and moderate returns during recessions and high volatility. It shows a stronger connection to traditional indicators like interest rates and VIX, supporting its hedge role. Bitcoin delivers exceptional returns during and after the 2020 recession but brings significantly higher risk and volatility. Gold suits low risk investors, while Bitcoin attracts those seeking high returns and willing to face higher risks.\n",
    "\n",
    "Gold and Bitcoin play different roles in investment portfolios. Gold serves as a reliable hedge against economic uncertainty and volatility. Bitcoin, however, functions as a speculative asset. Although Bitcoin’s role may change in the future, the current data shows it does not match Gold’s stability and reliability as a hedge.\n"
   ]
  },
  {
   "cell_type": "markdown",
   "metadata": {},
   "source": [
    "# Handle Outliers #\n"
   ]
  },
  {
   "cell_type": "code",
   "execution_count": null,
   "metadata": {},
   "outputs": [
    {
     "name": "stderr",
     "output_type": "stream",
     "text": [
      "C:\\Users\\kians\\AppData\\Local\\Temp\\ipykernel_1264\\2888253542.py:22: FutureWarning: The default fill_method='pad' in Series.pct_change is deprecated and will be removed in a future version. Either fill in any non-leading NA values prior to calling pct_change or specify 'fill_method=None' to not fill NA values.\n",
      "  df['Interest Rate Change (%)'] = df['DFF'].pct_change() * 100\n"
     ]
    },
    {
     "data": {
      "image/png": "[encoded data removed]",
      "text/plain": [
       "<Figure size 1000x600 with 2 Axes>"
      ]
     },
     "metadata": {},
     "output_type": "display_data"
    }
   ],
   "source": [
    "import pandas as pd\n",
    "import numpy as np\n",
    "import seaborn as sns\n",
    "import matplotlib.pyplot as plt\n",
    "\n",
    "# Load data\n",
    "gold_btc_df = pd.read_csv(\"merged_gold_btc_prices.csv\")\n",
    "gold_btc_df = gold_btc_df[gold_btc_df['Date'] >= '2009-10-01']\n",
    "macro_df = pd.read_csv(\"macro_economic_data.csv\")\n",
    "\n",
    "# Merge all the data\n",
    "df = pd.merge(gold_btc_df, macro_df, left_on='Date', right_on='DATE', how='left')\n",
    "\n",
    "# Ensure columns are numeric\n",
    "numeric_columns = ['Price_BTC', 'Price_Gold', 'DFF', 'VIXCLS']\n",
    "for col in numeric_columns:\n",
    "    df[col] = pd.to_numeric(df[col], errors='coerce')  \n",
    "\n",
    "# Calculate percentage change and rename columns\n",
    "df['Bitcoin Price Change (%)'] = df['Price_BTC'].pct_change() * 100\n",
    "df['Gold Price Change (%)'] = df['Price_Gold'].pct_change() * 100\n",
    "df['Interest Rate Change (%)'] = df['DFF'].pct_change() * 100\n",
    "df['Volatility Expectation'] = df['VIXCLS']  \n",
    "\n",
    "# Remove outliers using IQR\n",
    "def remove_outliers(df, column):\n",
    "    Q1 = df[column].quantile(0.25)\n",
    "    Q3 = df[column].quantile(0.75)\n",
    "    IQR = Q3 - Q1\n",
    "    lower_bound = Q1 - 1.5 * IQR\n",
    "    upper_bound = Q3 + 1.5 * IQR\n",
    "    return df[(df[column] >= lower_bound) & (df[column] <= upper_bound)]\n",
    "\n",
    "# New DF to remove outliers\n",
    "cleaned_df = df.copy()\n",
    "for col in ['Bitcoin Price Change (%)', 'Gold Price Change (%)', 'Interest Rate Change (%)', 'Volatility Expectation']:\n",
    "    cleaned_df = remove_outliers(cleaned_df, col)\n",
    "\n",
    "# New correlation matrix with outliers removed\n",
    "cleaned_corr_matrix = cleaned_df[['Price_Gold', 'Price_BTC', 'Volatility Expectation', 'DFF']].corr()\n",
    "\n",
    "plt.figure(figsize=(10, 6))\n",
    "sns.heatmap(cleaned_corr_matrix, annot=True, cmap='coolwarm', fmt='.2f', cbar=True)\n",
    "plt.title('Cleaned Correlation Matrix: Bitcoin, Gold, Interest Rate, Volatility Expectation')\n",
    "plt.show()\n"
   ]
  },
  {
   "cell_type": "markdown",
   "metadata": {},
   "source": [
    "# Comparison of Results and Reason for Difference #\n",
    "\n",
    "\n",
    "\n",
    "After removing outliers, the correlation matrix explains a clearer relationships between the variables. Outliers distorted the original correlations by exaggerating or suppressing certain trends. Without these outliers, the correlation between Gold and Bitcoin prices slightly increased, highlighting a stronger positive connection. The correlations between Gold, Bitcoin, and interest rates also strengthened, showing that outliers had suppressed the consistency of these relationships.\n",
    "\n",
    "The weak correlation with the VIX remained unchanged, confirming that VIX changes have a limited and consistent impact on asset prices even after removing the outliers. The stronger negative correlation between VIX and interest rates now better reflects economic patterns, where heightened market volatility often correlates with lower interest rates during uncertainty. Removing outliers eliminated the noise caused by extreme data points, allowing the analysis to present more accurate and reliable trends."
   ]
  }
 ],
 "metadata": {
  "colab": {
   "provenance": []
  },
  "kernelspec": {
   "display_name": "Python 3",
   "name": "python3"
  },
  "language_info": {
   "codemirror_mode": {
    "name": "ipython",
    "version": 3
   },
   "file_extension": ".py",
   "mimetype": "text/x-python",
   "name": "python",
   "nbconvert_exporter": "python",
   "pygments_lexer": "ipython3",
   "version": "3.11.0"
  }
 },
 "nbformat": 4,
 "nbformat_minor": 0
}
